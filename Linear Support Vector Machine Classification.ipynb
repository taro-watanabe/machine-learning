{
  "nbformat": 4,
  "nbformat_minor": 0,
  "metadata": {
    "kernelspec": {
      "display_name": "Python 3 (system-wide)",
      "language": "python",
      "metadata": {
        "cocalc": {
          "description": "Python 3 programming language",
          "priority": 100,
          "url": "https://www.python.org/"
        }
      },
      "name": "python3"
    },
    "language_info": {
      "codemirror_mode": {
        "name": "ipython",
        "version": 3
      },
      "file_extension": ".py",
      "mimetype": "text/x-python",
      "name": "python",
      "nbconvert_exporter": "python",
      "pygments_lexer": "ipython3",
      "version": "3.6.9"
    },
    "colab": {
      "name": "2020-05-29-140004.ipynb のコピー",
      "provenance": []
    }
  },
  "cells": [
    {
      "cell_type": "markdown",
      "metadata": {
        "collapsed": false,
        "id": "ITyHbZVLfWHy",
        "colab_type": "text"
      },
      "source": [
        "# Introduction\n",
        "\n",
        "This documentation discusses about the Linear Support Vector Machine Classification Algorithm.\n",
        "\n",
        "We are going to utilize the `scikit-learn` library, however, we will discuss the mathematical concepts and properties as well.\n",
        "\n",
        "## Concept of linear SVM Classification\n",
        "\n",
        "**Support Vector Machine** is a very popular **supervised** algorithm.\n",
        "It is utilized both for regression and classification tasks, but this documentation will focus on the classification.\n",
        "\n",
        "The objective of any SVM is to find a **\"hyperplane\"**. This is a linear \"plane\" having 1 less dimension than the datapoints, sthat theoretically separates the data points into the desired amount to classification ($\\ge 2$). Whilst doing this, it aims to maximize the \"margin\", which is basically a space between the closest data points from each class to the hyperplane.\n",
        "\n",
        "## Explanation\n",
        "\n",
        "First of all, for any dimensional data points, it is possible to calculate the eucledian distance from the origin. To do this, we use the following equation:\n",
        "$$||x|| = \\sqrt{\\sum_{i=1} ^d x_i^2 }$$\n",
        "\n",
        "where $d$ is the dimension of the datapoint, and $x_i$ being the coordinate in the $i$-th dimension. \n",
        "\n",
        "Similarly, we can advance this to find the euclidean distance from point $x$ to $y$.\n",
        "\n",
        "$$d||x-y|| = \\sqrt{\\sum_{i=1} ^d (x-y)_i^2 }$$\n",
        "\n",
        "\n",
        "TO recall, the goal of SVM is to :\n",
        "- separate the datapoints as accurately as possible\n",
        "- while keeping the biggest margin\n",
        "\n",
        "The margin is calculated using the closest datapoint from each class group and any given point of the hyperplane.\n",
        "\n",
        "Thus the optimal hyperplane is given finding simultaneously that maximizes the total margin.\n",
        "\n",
        "**IMPORTANT** There are certain cases in which the datasets are not linearly separable, in this case, we use the concept of **kernel**, however, since the kernel is given to be linear, we will not discuss about this. \n",
        "\n",
        "The C parameter is a universal concept in most classification algorithms, called the soft margin. It is a judgment factor in how much tradeoff they allow, for an error case. (i.e. misclassifying **blue** as **red**) This may seem a problem at first glance, but allowing for this may vastly improve the margin of the hyperplane positioning. \n",
        "\n",
        "## Pros and Cons of Linear SVM Classification\n",
        "\n",
        "### Pros\n",
        "\n",
        "- There are relatively small numbers of hyperparameters (variables dicided by human) to tune\n",
        "- It is relatively good even in higher dimension.\n",
        "\n",
        "### Cons\n",
        "\n",
        "- When there are noises in the data, it may not be easy to accurately learn the patterns."
      ]
    },
    {
      "cell_type": "markdown",
      "metadata": {
        "collapsed": false,
        "id": "2R8I-RwZfWH1",
        "colab_type": "text"
      },
      "source": [
        "# Implementation\n",
        "\n",
        "THe given data contains 1100 elements (samples) in total, with each containing 25 features without any skips on the data (no NaN). The labes are 0,1,2, and 3, thus in total 4.\n",
        "The task is to achieve the highest accuracy score. We will be using the **f1-weighted** score."
      ]
    },
    {
      "cell_type": "markdown",
      "metadata": {
        "collapsed": false,
        "id": "eqbyzz2_fWH4",
        "colab_type": "text"
      },
      "source": [
        "## Pre-processing"
      ]
    },
    {
      "cell_type": "markdown",
      "metadata": {
        "collapsed": false,
        "id": "gat1MpXffWH5",
        "colab_type": "text"
      },
      "source": [
        "#### Importing basic modules and frameworks"
      ]
    },
    {
      "cell_type": "code",
      "metadata": {
        "id": "FoaixWNOfWH6",
        "colab_type": "code",
        "colab": {}
      },
      "source": [
        "import numpy as np\n",
        "from scipy import stats\n",
        "import pandas as pd\n",
        "from matplotlib import pyplot as plt\n",
        "\n",
        "\n",
        "%matplotlib inline"
      ],
      "execution_count": 0,
      "outputs": []
    },
    {
      "cell_type": "markdown",
      "metadata": {
        "collapsed": false,
        "id": "FIkGTFm0fWH_",
        "colab_type": "text"
      },
      "source": [
        "#### Importing data + visualization"
      ]
    },
    {
      "cell_type": "code",
      "metadata": {
        "id": "bakCW2G4fWIA",
        "colab_type": "code",
        "outputId": "240c8883-eca4-4570-9705-482b98bfaf6e",
        "colab": {
          "base_uri": "https://localhost:8080/",
          "height": 239
        }
      },
      "source": [
        "data = pd.read_csv(\"data.csv\") # pandas reading the csv\n",
        "\n",
        "data.head() #showing the first five rows"
      ],
      "execution_count": 0,
      "outputs": [
        {
          "output_type": "execute_result",
          "data": {
            "text/html": [
              "<div>\n",
              "<style scoped>\n",
              "    .dataframe tbody tr th:only-of-type {\n",
              "        vertical-align: middle;\n",
              "    }\n",
              "\n",
              "    .dataframe tbody tr th {\n",
              "        vertical-align: top;\n",
              "    }\n",
              "\n",
              "    .dataframe thead th {\n",
              "        text-align: right;\n",
              "    }\n",
              "</style>\n",
              "<table border=\"1\" class=\"dataframe\">\n",
              "  <thead>\n",
              "    <tr style=\"text-align: right;\">\n",
              "      <th></th>\n",
              "      <th>Unnamed: 0</th>\n",
              "      <th>label</th>\n",
              "      <th>feature_1</th>\n",
              "      <th>feature_2</th>\n",
              "      <th>feature_3</th>\n",
              "      <th>feature_4</th>\n",
              "      <th>feature_5</th>\n",
              "      <th>feature_6</th>\n",
              "      <th>feature_7</th>\n",
              "      <th>feature_8</th>\n",
              "      <th>feature_9</th>\n",
              "      <th>feature_10</th>\n",
              "      <th>feature_11</th>\n",
              "      <th>feature_12</th>\n",
              "      <th>feature_13</th>\n",
              "      <th>feature_14</th>\n",
              "      <th>feature_15</th>\n",
              "      <th>feature_16</th>\n",
              "      <th>feature_17</th>\n",
              "      <th>feature_18</th>\n",
              "      <th>feature_19</th>\n",
              "      <th>feature_20</th>\n",
              "      <th>feature_21</th>\n",
              "      <th>feature_22</th>\n",
              "      <th>feature_23</th>\n",
              "      <th>feature_24</th>\n",
              "      <th>feature_25</th>\n",
              "    </tr>\n",
              "  </thead>\n",
              "  <tbody>\n",
              "    <tr>\n",
              "      <th>0</th>\n",
              "      <td>0</td>\n",
              "      <td>1</td>\n",
              "      <td>0.459513</td>\n",
              "      <td>-0.022404</td>\n",
              "      <td>2.567985</td>\n",
              "      <td>0.015171</td>\n",
              "      <td>-0.375633</td>\n",
              "      <td>2.353966</td>\n",
              "      <td>1.303802</td>\n",
              "      <td>-0.532547</td>\n",
              "      <td>4.963351</td>\n",
              "      <td>0.909550</td>\n",
              "      <td>0.070212</td>\n",
              "      <td>1.115109</td>\n",
              "      <td>1.120162</td>\n",
              "      <td>1.278469</td>\n",
              "      <td>-0.841888</td>\n",
              "      <td>1.852674</td>\n",
              "      <td>2.927161</td>\n",
              "      <td>-0.146587</td>\n",
              "      <td>2.643758</td>\n",
              "      <td>-0.474561</td>\n",
              "      <td>0.132274</td>\n",
              "      <td>1.330377</td>\n",
              "      <td>-0.122502</td>\n",
              "      <td>-0.230676</td>\n",
              "      <td>-4.738911</td>\n",
              "    </tr>\n",
              "    <tr>\n",
              "      <th>1</th>\n",
              "      <td>1</td>\n",
              "      <td>2</td>\n",
              "      <td>-0.378271</td>\n",
              "      <td>0.030319</td>\n",
              "      <td>-0.296172</td>\n",
              "      <td>1.284703</td>\n",
              "      <td>0.201053</td>\n",
              "      <td>1.730669</td>\n",
              "      <td>0.407865</td>\n",
              "      <td>-0.999654</td>\n",
              "      <td>0.189238</td>\n",
              "      <td>-2.310768</td>\n",
              "      <td>0.097967</td>\n",
              "      <td>2.293972</td>\n",
              "      <td>0.135496</td>\n",
              "      <td>1.503611</td>\n",
              "      <td>0.355616</td>\n",
              "      <td>2.519479</td>\n",
              "      <td>-0.144690</td>\n",
              "      <td>-1.466299</td>\n",
              "      <td>-5.254762</td>\n",
              "      <td>-0.468255</td>\n",
              "      <td>-0.658853</td>\n",
              "      <td>2.608092</td>\n",
              "      <td>-0.409789</td>\n",
              "      <td>0.256659</td>\n",
              "      <td>2.561582</td>\n",
              "    </tr>\n",
              "    <tr>\n",
              "      <th>2</th>\n",
              "      <td>2</td>\n",
              "      <td>2</td>\n",
              "      <td>-1.051696</td>\n",
              "      <td>-0.590928</td>\n",
              "      <td>-1.516205</td>\n",
              "      <td>0.806571</td>\n",
              "      <td>0.709398</td>\n",
              "      <td>-1.473467</td>\n",
              "      <td>0.382157</td>\n",
              "      <td>-0.183121</td>\n",
              "      <td>1.300136</td>\n",
              "      <td>1.528845</td>\n",
              "      <td>0.104075</td>\n",
              "      <td>1.479346</td>\n",
              "      <td>0.644821</td>\n",
              "      <td>0.228096</td>\n",
              "      <td>-0.726865</td>\n",
              "      <td>1.141307</td>\n",
              "      <td>3.009853</td>\n",
              "      <td>0.604444</td>\n",
              "      <td>-1.895364</td>\n",
              "      <td>0.265408</td>\n",
              "      <td>0.750191</td>\n",
              "      <td>1.786794</td>\n",
              "      <td>0.794111</td>\n",
              "      <td>0.382050</td>\n",
              "      <td>-0.843549</td>\n",
              "    </tr>\n",
              "    <tr>\n",
              "      <th>3</th>\n",
              "      <td>3</td>\n",
              "      <td>1</td>\n",
              "      <td>1.347502</td>\n",
              "      <td>-0.386373</td>\n",
              "      <td>0.313343</td>\n",
              "      <td>0.379712</td>\n",
              "      <td>-0.948648</td>\n",
              "      <td>1.636031</td>\n",
              "      <td>-0.808498</td>\n",
              "      <td>0.831235</td>\n",
              "      <td>0.282650</td>\n",
              "      <td>-3.973514</td>\n",
              "      <td>0.391391</td>\n",
              "      <td>0.824747</td>\n",
              "      <td>-0.036106</td>\n",
              "      <td>0.104591</td>\n",
              "      <td>0.450434</td>\n",
              "      <td>0.877102</td>\n",
              "      <td>-0.071059</td>\n",
              "      <td>-1.498742</td>\n",
              "      <td>0.125098</td>\n",
              "      <td>-0.114234</td>\n",
              "      <td>0.424445</td>\n",
              "      <td>-2.328150</td>\n",
              "      <td>-0.302412</td>\n",
              "      <td>0.262368</td>\n",
              "      <td>0.068371</td>\n",
              "    </tr>\n",
              "    <tr>\n",
              "      <th>4</th>\n",
              "      <td>4</td>\n",
              "      <td>2</td>\n",
              "      <td>1.094431</td>\n",
              "      <td>0.456027</td>\n",
              "      <td>-1.381166</td>\n",
              "      <td>0.564079</td>\n",
              "      <td>-0.224672</td>\n",
              "      <td>-0.668856</td>\n",
              "      <td>-0.062015</td>\n",
              "      <td>-1.031345</td>\n",
              "      <td>1.238478</td>\n",
              "      <td>-1.918015</td>\n",
              "      <td>-0.709299</td>\n",
              "      <td>1.178675</td>\n",
              "      <td>-0.622415</td>\n",
              "      <td>-0.427480</td>\n",
              "      <td>0.300991</td>\n",
              "      <td>4.662197</td>\n",
              "      <td>-1.505002</td>\n",
              "      <td>-0.773118</td>\n",
              "      <td>-0.920323</td>\n",
              "      <td>-0.202668</td>\n",
              "      <td>0.563538</td>\n",
              "      <td>-1.174693</td>\n",
              "      <td>1.115119</td>\n",
              "      <td>0.228327</td>\n",
              "      <td>0.048306</td>\n",
              "    </tr>\n",
              "  </tbody>\n",
              "</table>\n",
              "</div>"
            ],
            "text/plain": [
              "   Unnamed: 0  label  feature_1  ...  feature_23  feature_24  feature_25\n",
              "0           0      1   0.459513  ...   -0.122502   -0.230676   -4.738911\n",
              "1           1      2  -0.378271  ...   -0.409789    0.256659    2.561582\n",
              "2           2      2  -1.051696  ...    0.794111    0.382050   -0.843549\n",
              "3           3      1   1.347502  ...   -0.302412    0.262368    0.068371\n",
              "4           4      2   1.094431  ...    1.115119    0.228327    0.048306\n",
              "\n",
              "[5 rows x 27 columns]"
            ]
          },
          "metadata": {
            "tags": []
          },
          "execution_count": 2
        }
      ]
    },
    {
      "cell_type": "markdown",
      "metadata": {
        "collapsed": false,
        "id": "eOcKMHzGfWIF",
        "colab_type": "text"
      },
      "source": [
        "#### Slicing the data into the feature matrix and the label vector\n",
        "\n",
        "as a preprocessing, we are required to prepare the feature matrix and the label vector, as a \"variable set\" and the \"answer set\"."
      ]
    },
    {
      "cell_type": "code",
      "metadata": {
        "id": "-mKJziRrfWIG",
        "colab_type": "code",
        "colab": {}
      },
      "source": [
        "#X = data.iloc[:,2:] # sliced off the first two coloumns of the dataset.\n",
        "#y = data.iloc[:,[1]] # picked the second column vector"
      ],
      "execution_count": 0,
      "outputs": []
    },
    {
      "cell_type": "markdown",
      "metadata": {
        "id": "GjtSpXpmI3PU",
        "colab_type": "text"
      },
      "source": [
        "This method created some unwanted behaviour, thus waived for this project.\n",
        "Thus, we are resorting to a slightly more naive way of slicing."
      ]
    },
    {
      "cell_type": "code",
      "metadata": {
        "id": "6k-nYOFWfWIL",
        "colab_type": "code",
        "colab": {}
      },
      "source": [
        "X = data.drop([\"label\", \"Unnamed: 0\"], axis=1)"
      ],
      "execution_count": 0,
      "outputs": []
    },
    {
      "cell_type": "code",
      "metadata": {
        "id": "W-hcvRNBfWIP",
        "colab_type": "code",
        "colab": {}
      },
      "source": [
        "y = data[\"label\"]"
      ],
      "execution_count": 0,
      "outputs": []
    },
    {
      "cell_type": "markdown",
      "metadata": {
        "collapsed": false,
        "id": "aWGWapFffWIV",
        "colab_type": "text"
      },
      "source": [
        "#### Splitting them into Training set and Test set\n",
        "\n",
        "From the previously splitted data, we would like to give some portion as a material for the machine to learn the pattern (training data), and some portion as a verification (test set) to check if the machine was able to accurtely learn the patterns seen from the training data."
      ]
    },
    {
      "cell_type": "code",
      "metadata": {
        "id": "R_HDQ9c0fWIW",
        "colab_type": "code",
        "colab": {}
      },
      "source": [
        "from sklearn.model_selection import train_test_split #most commonly used splitter module\n",
        "\n",
        "X_train, X_test, y_train, y_test = train_test_split(X,y, test_size=0.1) #We have selected one of the most common sized for the test set. "
      ],
      "execution_count": 0,
      "outputs": []
    },
    {
      "cell_type": "markdown",
      "metadata": {
        "id": "b3q_qRVMLVYn",
        "colab_type": "text"
      },
      "source": [
        "For a future insight purpose, we are going to check whether the data is balanced or not."
      ]
    },
    {
      "cell_type": "code",
      "metadata": {
        "id": "kRCDfvE9LVBV",
        "colab_type": "code",
        "outputId": "b91461bb-947a-43f7-9e57-478095b2f6c8",
        "colab": {
          "base_uri": "https://localhost:8080/",
          "height": 248
        }
      },
      "source": [
        "label_frequencies = [sum(data[\"label\"] == i) for i in range(4)]\n",
        "labels = [f\"Label {i}\" for i in range(4)]\n",
        "plt.pie(label_frequencies, labels = labels, autopct='%1.0f%%')\n",
        "\n",
        "plt.show()"
      ],
      "execution_count": 0,
      "outputs": [
        {
          "output_type": "display_data",
          "data": {
            "image/png": "[encoded data removed]",
            "text/plain": [
              "<Figure size 432x288 with 1 Axes>"
            ]
          },
          "metadata": {
            "tags": []
          }
        }
      ]
    },
    {
      "cell_type": "markdown",
      "metadata": {
        "id": "H_qXnUXop__r",
        "colab_type": "text"
      },
      "source": [
        "It is more or less a balanced data."
      ]
    },
    {
      "cell_type": "markdown",
      "metadata": {
        "collapsed": false,
        "id": "KYonOPJEfWH2",
        "colab_type": "text"
      },
      "source": [
        "## Linear SVM Classifier "
      ]
    },
    {
      "cell_type": "markdown",
      "metadata": {
        "collapsed": false,
        "id": "1e7WkH5QfWIt",
        "colab_type": "text"
      },
      "source": [
        "### Learning"
      ]
    },
    {
      "cell_type": "markdown",
      "metadata": {
        "collapsed": false,
        "id": "N2y7eC0EfWIu",
        "colab_type": "text"
      },
      "source": [
        "#### Baseline"
      ]
    },
    {
      "cell_type": "code",
      "metadata": {
        "id": "O0frjZ7ufWIv",
        "colab_type": "code",
        "outputId": "463f68ce-c866-4569-9536-0ad702da45af",
        "colab": {
          "base_uri": "https://localhost:8080/",
          "height": 89
        }
      },
      "source": [
        "from sklearn.svm import LinearSVC #linear svm classifier module\n",
        "from sklearn.metrics import f1_score # f1 score calculation module\n",
        "\n",
        "clf0 = LinearSVC(max_iter = 10000) #defining a machine into clf0 (No hyperparameter settings, except max_iter, as it did not finish converging within the default # of iterations)\n",
        "clf0.fit(X_train, y_train) # telling the machine to learn the pattern based on the training set of X and y. (raveled because it had to be a row vector)\n",
        "y_pred_0 = clf0.predict(X_test) # telling the machine to spit out guesses toward the test set (questions)\n",
        "\n",
        "f1_score(y_pred, y_test, average=\"weighted\") # checking the similarity score of the y_pred (guess) and y_test (correct answer) using the f1 method. average cannot be defaulted as it is for binary, in which case this isn't."
      ],
      "execution_count": 0,
      "outputs": [
        {
          "output_type": "stream",
          "text": [
            "/usr/local/lib/python3.6/dist-packages/sklearn/svm/_base.py:947: ConvergenceWarning: Liblinear failed to converge, increase the number of iterations.\n",
            "  \"the number of iterations.\", ConvergenceWarning)\n"
          ],
          "name": "stderr"
        },
        {
          "output_type": "execute_result",
          "data": {
            "text/plain": [
              "0.5891397354571469"
            ]
          },
          "metadata": {
            "tags": []
          },
          "execution_count": 12
        }
      ]
    },
    {
      "cell_type": "markdown",
      "metadata": {
        "collapsed": false,
        "id": "GrGA6xa9fWI4",
        "colab_type": "text"
      },
      "source": [
        "Without tweaking any hyperparameters, we obtained a f1 score of 53.0%."
      ]
    },
    {
      "cell_type": "markdown",
      "metadata": {
        "id": "Br6NXPcyJ5P7",
        "colab_type": "text"
      },
      "source": [
        "Showing the confusion matrix to get more details out of it:"
      ]
    },
    {
      "cell_type": "code",
      "metadata": {
        "id": "QhL1TsrffWI5",
        "colab_type": "code",
        "outputId": "e2c1ec16-2b87-4a88-86b9-37b2935fcffe",
        "colab": {
          "base_uri": "https://localhost:8080/",
          "height": 297
        }
      },
      "source": [
        "from sklearn.metrics import confusion_matrix as cm\n",
        "from sklearn.metrics import plot_confusion_matrix as pcm\n",
        "\n",
        "pcm(clf0, X_test, y_test, cmap=plt.cm.Blues, normalize=\"true\")"
      ],
      "execution_count": 0,
      "outputs": [
        {
          "output_type": "execute_result",
          "data": {
            "text/plain": [
              "<sklearn.metrics._plot.confusion_matrix.ConfusionMatrixDisplay at 0x7f77c4dff048>"
            ]
          },
          "metadata": {
            "tags": []
          },
          "execution_count": 13
        },
        {
          "output_type": "display_data",
          "data": {
            "image/png": "[encoded data removed]",
            "text/plain": [
              "<Figure size 432x288 with 2 Axes>"
            ]
          },
          "metadata": {
            "tags": [],
            "needs_background": "light"
          }
        }
      ]
    },
    {
      "cell_type": "markdown",
      "metadata": {
        "collapsed": false,
        "id": "o9SS5ycSfWJG",
        "colab_type": "text"
      },
      "source": [
        "#### Exploring methods of improvement\n",
        "\n",
        "We are allowed to optimize our algorithm by changing some parameters that the machine uses, and the ones that are in the scope are:\n",
        "\n",
        "- Kernels (Not possible, as restricted to linear.)\n",
        "- C (The margins)\n",
        "- Penalty Function\n",
        "- Loss function\n",
        "- dual boolean\n",
        "\n",
        "\n",
        "Also, we may want to consider some other methods, such as:\n",
        "\n",
        "- Scaling\n",
        "- Usage of Cross Validation function\n",
        "- simply tweaking weights (very much sub-optimal)"
      ]
    },
    {
      "cell_type": "markdown",
      "metadata": {
        "collapsed": false,
        "id": "ygXlDoYRfWJH",
        "colab_type": "text"
      },
      "source": [
        "##### Grid Searching\n",
        "\n",
        "Because of limited amount of time and requirement, we are going to resort to grid search, instead of evolutionary alrogithm or a random search.\n",
        "\n",
        "We are going to simultaneously try different loss functions, penalty functions, and dual bools as well.\n",
        "\n",
        "Also, we will do the grid search to the scaled data."
      ]
    },
    {
      "cell_type": "markdown",
      "metadata": {
        "id": "0IGh-PqZTW7f",
        "colab_type": "text"
      },
      "source": [
        "After a grid search of 1600 tests in total: 2 for penalty,  2 for loss, 2 for dual, 2 for fit intercept, and 100 c values for eachof them."
      ]
    },
    {
      "cell_type": "code",
      "metadata": {
        "id": "kmsmXrwLWGtN",
        "colab_type": "code",
        "colab": {}
      },
      "source": [
        "from sklearn import preprocessing\n",
        "\n",
        "X1 = preprocessing.scale(X)"
      ],
      "execution_count": 0,
      "outputs": []
    },
    {
      "cell_type": "code",
      "metadata": {
        "id": "RcTKXB5vWU50",
        "colab_type": "code",
        "colab": {}
      },
      "source": [
        "X1_train, X1_test, y1_train, y1_test = train_test_split(X1,y, test_size=0.1)"
      ],
      "execution_count": 0,
      "outputs": []
    },
    {
      "cell_type": "code",
      "metadata": {
        "id": "TXlZKxNQWoGj",
        "colab_type": "code",
        "outputId": "ab6fb384-6724-4419-dd8a-45610b875da5",
        "colab": {
          "base_uri": "https://localhost:8080/",
          "height": 208
        }
      },
      "source": [
        "from sklearn.model_selection import GridSearchCV\n",
        "grid_params = {\"penalty\":[\"l1\",\"l2\"],\"C\": np.linspace(0.001,3,100), \"loss\": [\"hinge\", \"squared_hinge\"], \"dual\":[True, False], \"fit_intercept\":[True, False]}\n",
        "lsvc = LinearSVC(max_iter=10000, class_weight=\"balanced\")\n",
        "gs = GridSearchCV(lsvc, grid_params, verbose = 1, n_jobs = -1, scoring = \"f1_weighted\")\n",
        "gs.fit(X1_train, y1_train)\n",
        "print(gs.best_params_, f\"best score was: {gs.best_score_}\")"
      ],
      "execution_count": 0,
      "outputs": [
        {
          "output_type": "stream",
          "text": [
            "Fitting 5 folds for each of 1600 candidates, totalling 8000 fits\n"
          ],
          "name": "stdout"
        },
        {
          "output_type": "stream",
          "text": [
            "[Parallel(n_jobs=-1)]: Using backend LokyBackend with 2 concurrent workers.\n",
            "[Parallel(n_jobs=-1)]: Done 558 tasks      | elapsed:   10.0s\n",
            "[Parallel(n_jobs=-1)]: Done 1136 tasks      | elapsed:   36.7s\n",
            "[Parallel(n_jobs=-1)]: Done 2136 tasks      | elapsed:  1.6min\n",
            "[Parallel(n_jobs=-1)]: Done 3536 tasks      | elapsed:  3.2min\n",
            "[Parallel(n_jobs=-1)]: Done 4520 tasks      | elapsed:  4.7min\n",
            "[Parallel(n_jobs=-1)]: Done 5612 tasks      | elapsed:  6.8min\n",
            "[Parallel(n_jobs=-1)]: Done 6794 tasks      | elapsed:  9.6min\n"
          ],
          "name": "stderr"
        },
        {
          "output_type": "stream",
          "text": [
            "{'C': 0.031292929292929296, 'dual': False, 'fit_intercept': False, 'loss': 'squared_hinge', 'penalty': 'l1'} best score was: 0.5715142307797334\n"
          ],
          "name": "stdout"
        },
        {
          "output_type": "stream",
          "text": [
            "[Parallel(n_jobs=-1)]: Done 8000 out of 8000 | elapsed: 12.7min finished\n"
          ],
          "name": "stderr"
        }
      ]
    },
    {
      "cell_type": "code",
      "metadata": {
        "id": "KGRvigROfWJN",
        "colab_type": "code",
        "outputId": "b3659db0-2b7c-403c-c9f7-5db29b506ae2",
        "colab": {
          "base_uri": "https://localhost:8080/",
          "height": 35
        }
      },
      "source": [
        "clf1 = LinearSVC(C=0.031292929292929296, penalty='l1', loss='squared_hinge',dual=False, tol=1e-3, max_iter = 10000000, fit_intercept=False, class_weight=\"balanced\")\n",
        "\n",
        "clf1.fit(X1_train,y1_train)\n",
        "\n",
        "y_pred_1 = clf1.predict(X1_test)\n",
        "\n",
        "f1_score(y_pred_1, y1_test, average=\"weighted\") "
      ],
      "execution_count": 0,
      "outputs": [
        {
          "output_type": "execute_result",
          "data": {
            "text/plain": [
              "0.558681214809867"
            ]
          },
          "metadata": {
            "tags": []
          },
          "execution_count": 63
        }
      ]
    },
    {
      "cell_type": "markdown",
      "metadata": {
        "id": "xr1X_tN5VTTn",
        "colab_type": "text"
      },
      "source": [
        "plotting the confusion matrix:"
      ]
    },
    {
      "cell_type": "code",
      "metadata": {
        "id": "fy2JMT8_U82R",
        "colab_type": "code",
        "outputId": "5424f9bd-1b80-4eff-feb9-66fbeada25ae",
        "colab": {
          "base_uri": "https://localhost:8080/",
          "height": 297
        }
      },
      "source": [
        "pcm(clf1, X1_test, y1_test, cmap=plt.cm.Blues, normalize=\"true\")"
      ],
      "execution_count": 0,
      "outputs": [
        {
          "output_type": "execute_result",
          "data": {
            "text/plain": [
              "<sklearn.metrics._plot.confusion_matrix.ConfusionMatrixDisplay at 0x7f77b3faec50>"
            ]
          },
          "metadata": {
            "tags": []
          },
          "execution_count": 64
        },
        {
          "output_type": "display_data",
          "data": {
            "image/png": "[encoded data removed]",
            "text/plain": [
              "<Figure size 432x288 with 2 Axes>"
            ]
          },
          "metadata": {
            "tags": [],
            "needs_background": "light"
          }
        }
      ]
    },
    {
      "cell_type": "markdown",
      "metadata": {
        "collapsed": false,
        "id": "nst2DTInfWJh",
        "colab_type": "text"
      },
      "source": [
        "Although we have performed an optimization, we failed to improve the score by a recognizable margin (around 5%)"
      ]
    },
    {
      "cell_type": "markdown",
      "metadata": {
        "collapsed": false,
        "id": "H5GNgOHSfWJi",
        "colab_type": "text"
      },
      "source": [
        "##### Cross Validation"
      ]
    },
    {
      "cell_type": "code",
      "metadata": {
        "id": "XTURzXndfWJj",
        "colab_type": "code",
        "outputId": "5220f3f1-0d57-47f5-e9c8-41f989a247c6",
        "colab": {
          "base_uri": "https://localhost:8080/",
          "height": 35
        }
      },
      "source": [
        "from sklearn.model_selection import cross_val_predict\n",
        "\n",
        "svc = LinearSVC(max_iter=100000)\n",
        "\n",
        "y_pred_cv0 = cross_val_predict(svc,X,y,cv=5)\n",
        "\n",
        "f1_score(y_pred_cv0, y, average=\"weighted\")"
      ],
      "execution_count": 0,
      "outputs": [
        {
          "output_type": "execute_result",
          "data": {
            "text/plain": [
              "0.5796115304141221"
            ]
          },
          "metadata": {
            "tags": []
          },
          "execution_count": 56
        }
      ]
    },
    {
      "cell_type": "markdown",
      "metadata": {
        "id": "fqOW3q8meb2b",
        "colab_type": "text"
      },
      "source": [
        "Even with cross validation, we failed to improve the score."
      ]
    },
    {
      "cell_type": "markdown",
      "metadata": {
        "id": "Qpc68NpFehL8",
        "colab_type": "text"
      },
      "source": [
        "##### Manual weights editing"
      ]
    },
    {
      "cell_type": "code",
      "metadata": {
        "id": "zZxNV_7JhvEn",
        "colab_type": "code",
        "outputId": "406c5545-f381-4540-c4c5-0c6cdefc3350",
        "colab": {
          "base_uri": "https://localhost:8080/",
          "height": 369
        }
      },
      "source": [
        "clf2 = LinearSVC(C=2.359285714285714, dual=True, fit_intercept=True, loss=\"hinge\", max_iter=1000000, class_weight={0:65,1:15,2:25,3:10})\n",
        "\n",
        "clf2.fit(X_train, y_train)\n",
        "y_pred_2 = clf2.predict(X_test)\n",
        "\n",
        "print(f1_score(y_pred2, y_test, average=\"weighted\"))\n",
        "\n",
        "pcm(clf2, X_test, y_test, cmap=plt.cm.Blues, normalize=\"true\")"
      ],
      "execution_count": 0,
      "outputs": [
        {
          "output_type": "stream",
          "text": [
            "0.6203622138510577\n"
          ],
          "name": "stdout"
        },
        {
          "output_type": "stream",
          "text": [
            "/usr/local/lib/python3.6/dist-packages/sklearn/svm/_base.py:947: ConvergenceWarning: Liblinear failed to converge, increase the number of iterations.\n",
            "  \"the number of iterations.\", ConvergenceWarning)\n"
          ],
          "name": "stderr"
        },
        {
          "output_type": "execute_result",
          "data": {
            "text/plain": [
              "<sklearn.metrics._plot.confusion_matrix.ConfusionMatrixDisplay at 0x7f77b671e198>"
            ]
          },
          "metadata": {
            "tags": []
          },
          "execution_count": 46
        },
        {
          "output_type": "display_data",
          "data": {
            "image/png": "[encoded data removed]",
            "text/plain": [
              "<Figure size 432x288 with 2 Axes>"
            ]
          },
          "metadata": {
            "tags": [],
            "needs_background": "light"
          }
        }
      ]
    },
    {
      "cell_type": "markdown",
      "metadata": {
        "id": "PmuaMT2ciYo3",
        "colab_type": "text"
      },
      "source": [
        "As we can see, although there are plenty of spaces for exploration of weight distributions, some manual tweakings yielded to a higher overall accuracy scores. Since labels 1 and 3 are having higher accuracy rates, it is often considered to be a bad solution. That being said, if we could, for example, perform this for label classification -> Assuming items labeled as 1 or 3 will get pulled out from data -> perform a 2-class classification between 0 and 2, as this is much more simple and easy to perform."
      ]
    }
  ]
}